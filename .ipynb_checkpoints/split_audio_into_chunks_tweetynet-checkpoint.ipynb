{
 "cells": [
  {
   "cell_type": "markdown",
   "id": "2c94d7b7-c2d9-420c-87de-3ea8d13e4a48",
   "metadata": {},
   "source": [
    "This script cuts sounds with annotation into smaller chunks. Sounds and annotations will be alligned (such that new sounds and annotations start with zero) \\\n",
    "enter the folders and filenames in cell 2 \\\n",
    "set the desired chunksize in cell 4 \\\n",
    "WARNING: chunks without annotations are skipped and not saved. New files are created so originals are safe. Depending on the original file size, this might take up some diskspace\n",
    "\n"
   ]
  },
  {
   "cell_type": "code",
   "execution_count": 216,
   "id": "7ffb443b-8492-4681-a9f3-f2f8fa86fc8c",
   "metadata": {},
   "outputs": [],
   "source": [
    "from scipy import signal\n",
    "from scipy.io import wavfile\n",
    "from pathlib import Path\n",
    "import pandas as pd\n",
    "import os\n",
    "import math"
   ]
  },
  {
   "cell_type": "code",
   "execution_count": 217,
   "id": "00a54a7c-1f6b-4bcc-a03e-c340f9e8e91e",
   "metadata": {},
   "outputs": [],
   "source": [
    "#set folders and files\n",
    "\n",
    "#e.g.# data_folder = Path(\"source_data/text_files/\")\n",
    "data_folder = Path(r\"C:/Users/audiofolder\")\n",
    "#load audiofile\n",
    "filename= 'audio.wav' #3wavs concatenated\n",
    "#csv files with annotations\n",
    "data_folder = Path(r\"C:/Users/annotations\")\n",
    "csvname = 'annotations.wav.csv'\n",
    "csvfile  = pd.read_csv(os.path.join(data_folder, csvname)) #only first csv for now =first 9sec"
   ]
  },
  {
   "cell_type": "code",
   "execution_count": 218,
   "id": "b301e11e-9491-4e0e-bc61-f2f353fb5ede",
   "metadata": {},
   "outputs": [],
   "source": [
    "sample_rate, samples = wavfile.read(os.path.join(data_folder, filename)) # gets sample rate and samples from audio file\n",
    "frequencies, times, spectrogram = signal.spectrogram(samples, sample_rate) # gets times frequecies and spectrogram from audio file"
   ]
  },
  {
   "cell_type": "code",
   "execution_count": 219,
   "id": "e5dcd2cf-cb07-4ce0-b4fb-ce8ffdd0cd65",
   "metadata": {},
   "outputs": [
    {
     "data": {
      "text/plain": [
       "6"
      ]
     },
     "execution_count": 219,
     "metadata": {},
     "output_type": "execute_result"
    }
   ],
   "source": [
    "#set chunk size \n",
    "chunksize = 2 # set chunk duration in seconds\n",
    "\n",
    "dur=times[(len(times)-1)] \n",
    "chunks=(math.ceil(dur/chunksize)) # determine how many chunks of 10 secondes and round up (ceil)\n",
    "chunks"
   ]
  },
  {
   "cell_type": "code",
   "execution_count": 222,
   "id": "005e5e87-6248-4b19-8fcc-788080b3e5a8",
   "metadata": {},
   "outputs": [],
   "source": [
    "\n",
    "#new audio name\n",
    "newaudion = str(Path(filename).stem) \n",
    "\n",
    "for i in range(1, chunks):\n",
    "    end=i*chunksize # endtime of chunk\n",
    "    start=end-chunksize # starttime of chunk\n",
    "#chunk csv \n",
    "    csvchunk = csvfile.loc[(csvfile['onset_s'] >= start) & (csvfile['offset_s'] <= end)]\n",
    "#check if annotations in chunk, if not don't save data and skip\n",
    "    if (len(csvchunk.index)) > 0:\n",
    "#chunk audio\n",
    "        samplesend = end * sample_rate\n",
    "        samplesstart = start * sample_rate\n",
    "    #save chunked audio \n",
    "        wavfile.write(os.path.join(data_folder, (str(newaudion + str(i) + '.wav'))), sample_rate, samples[samplesstart: samplesend])\n",
    "    #chunk csv \n",
    "        #csvchunk = csvfile[(csvfile.onset_s >= start) & (csvfile.offset_s <= end)]\n",
    "        csvchunk = csvfile.loc[(csvfile['onset_s'] >= start) & (csvfile['offset_s'] <= end)]\n",
    "    #'reset' time so annotation is alligned with audio (which now starts at 0 instead of start annotation). \n",
    "    #Into new column to avoid warning https://pandas.pydata.org/pandas-docs/stable/user_guide/indexing.html#returning-a-view-versus-a-copy\n",
    "        #csvchunk.onset_s=csvchunk.onset_s +2 -> warning\n",
    "        #csvchunk.offset_s=csvchunk.offset_s +2 -> warning\n",
    "        csvchunk.loc[:,'onset_s'] = csvchunk['onset_s'] - start\n",
    "        csvchunk.loc[:,'offset_s'] = csvchunk['offset_s'] - start\n",
    "        #csvchunk['onsetnew'] = csvchunk.onset_s + chunksize\n",
    "        #csvchunk['offsetnew'] = csvchunk.offset_s + chunksize\n",
    "        #csvchunk = csvchunk.drop(columns=['onset_s', 'offset_s'])\n",
    "        #csvchunk.rename(columns={\"onsetnew\": \"onset_s\", \"offsetnew\": \"offset_s\"})\n",
    "    #save chunked csv               \n",
    "        #new csvname\n",
    "        newname= str(Path(csvname).stem)  #remove .csv extension\n",
    "        newname= str(Path(newname).stem + str(i)) # remove .wav extension and add number i\n",
    "        csvchunk.to_csv(os.path.join(data_folder, newname + '.csv'), index=None)"
   ]
  }
 ],
 "metadata": {
  "kernelspec": {
   "display_name": "Python 3 (ipykernel)",
   "language": "python",
   "name": "python3"
  },
  "language_info": {
   "codemirror_mode": {
    "name": "ipython",
    "version": 3
   },
   "file_extension": ".py",
   "mimetype": "text/x-python",
   "name": "python",
   "nbconvert_exporter": "python",
   "pygments_lexer": "ipython3",
   "version": "3.12.8"
  }
 },
 "nbformat": 4,
 "nbformat_minor": 5
}
