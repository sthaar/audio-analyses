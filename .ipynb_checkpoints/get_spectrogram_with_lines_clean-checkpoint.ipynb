{
 "cells": [
  {
   "cell_type": "code",
   "execution_count": 3,
   "id": "62da2025",
   "metadata": {},
   "outputs": [],
   "source": [
    "import pandas as pd\n",
    "import numpy as np\n",
    "from pathlib import Path\n",
    "import os\n",
    "import os.path\n",
    "import shutil\n",
    "import matplotlib\n",
    "import matplotlib.pyplot as plt\n",
    "from scipy.io import wavfile\n",
    "from scipy import signal\n",
    "import math"
   ]
  },
  {
   "cell_type": "code",
   "execution_count": 4,
   "id": "e33f7b7d",
   "metadata": {},
   "outputs": [],
   "source": [
    "def printspec (filename, sample_x, sample_y):\n",
    "    sample_rate, samples = wavfile.read(os.path.join(data_path, filename))\n",
    "    frequencies, times, spectrogram = signal.spectrogram(samples, sample_rate)\n",
    "    \n",
    "    plt.figure(figsize=(5,3)) \n",
    "    plt.figure(figsize=(max(times)*2,3))\n",
    "    plt.pcolormesh(times, frequencies, np.log(spectrogram))\n",
    "    plt.ylim(top=15000) \n",
    "    plt.ylabel('Freq [Hz]', size=7)\n",
    "    plt.xlabel('Time [ms]', size=7)\n",
    "    plt.xticks(size=6)\n",
    "    for a in sample_x:\n",
    "        plt.axvline(x=a, linewidth=0.5, color='r')\n",
    "    for b in sample_y:\n",
    "        plt.axvline(x=b, linewidth=0.5, color='b')\n",
    "    plt.show()"
   ]
  },
  {
   "cell_type": "code",
   "execution_count": null,
   "id": "8a7e2a16",
   "metadata": {},
   "outputs": [],
   "source": [
    "datafolder = r\"/home/song/filtered\"\n",
    "data_path  = Path(datafolder)\n",
    "data  = pd.read_csv(r\"/home/TEST.csv\", usecols=[0,1,2], header=None)\n",
    "data  = data.dropna()\n",
    "count = 0\n",
    "sample_x = [0]\n",
    "sample_y = [0]\n",
    "data.reset_index(drop=True, inplace=True)\n",
    "df_new = data.iloc[:,0]\n",
    "print(len(df_new))\n",
    "for filename in os.listdir(datafolder):\n",
    "        if filename.endswith(\".wav\"):\n",
    "            while df_new.iloc[count] == filename:\n",
    "                x = math.floor(data.iloc[count, 1])/44100\n",
    "                y = math.floor(data.iloc[count, 2])/44100\n",
    "                sample_x = np.concatenate((np.array(sample_x), x), axis=None)\n",
    "                sample_y = np.concatenate((np.array(sample_y), y), axis=None)\n",
    "                count = count + 1\n",
    "                if count == len(df_new):\n",
    "                    break\n",
    "            print(filename)\n",
    "            print(count)\n",
    "            sample_x = sample_x[1:]\n",
    "            sample_y = sample_y[1:]\n",
    "            printspec(filename, sample_x, sample_y)\n",
    "            sample_x = [0]\n",
    "            sample_y = [0]"
   ]
  },
  {
   "cell_type": "code",
   "execution_count": null,
   "id": "18bcae37-51c8-4869-9b6f-051cb630ce5f",
   "metadata": {},
   "outputs": [],
   "source": []
  }
 ],
 "metadata": {
  "kernelspec": {
   "display_name": "Python 3 (ipykernel)",
   "language": "python",
   "name": "python3"
  },
  "language_info": {
   "codemirror_mode": {
    "name": "ipython",
    "version": 3
   },
   "file_extension": ".py",
   "mimetype": "text/x-python",
   "name": "python",
   "nbconvert_exporter": "python",
   "pygments_lexer": "ipython3",
   "version": "3.12.8"
  }
 },
 "nbformat": 4,
 "nbformat_minor": 5
}
