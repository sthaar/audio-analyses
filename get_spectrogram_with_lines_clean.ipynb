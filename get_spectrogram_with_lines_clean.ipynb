{
 "cells": [
  {
   "cell_type": "code",
   "execution_count": 11,
   "id": "62da2025",
   "metadata": {},
   "outputs": [],
   "source": [
    "import pandas as pd\n",
    "import numpy as np\n",
    "from pathlib import Path\n",
    "import os\n",
    "import os.path\n",
    "import shutil\n",
    "import matplotlib\n",
    "import matplotlib.pyplot as plt\n",
    "from scipy.io import wavfile\n",
    "from scipy import signal\n",
    "import math"
   ]
  },
  {
   "cell_type": "code",
   "execution_count": 12,
   "id": "e33f7b7d",
   "metadata": {},
   "outputs": [],
   "source": [
    "def printspec (filename, sample_x, sample_y):\n",
    "    sample_rate, samples = wavfile.read(os.path.join(data_path, filename))\n",
    "    frequencies, times, spectrogram = signal.spectrogram(samples, sample_rate)\n",
    "    \n",
    "    plt.figure(figsize=(5,3)) \n",
    "    plt.figure(figsize=(max(times)*2,3))\n",
    "    plt.pcolormesh(times, frequencies, np.log(spectrogram))\n",
    "    plt.ylim(top=15000) \n",
    "    plt.ylabel('Freq [Hz]', size=7)\n",
    "    plt.xlabel('Time [ms]', size=7)\n",
    "    plt.xticks(size=6)\n",
    "    for a in sample_x:\n",
    "        plt.axvline(x=a, linewidth=0.5, color='r')\n",
    "    for b in sample_y:\n",
    "        plt.axvline(x=b, linewidth=0.5, color='b')\n",
    "    plt.show()"
   ]
  }
 ],
 "metadata": {
  "kernelspec": {
   "display_name": "Python 3 (ipykernel)",
   "language": "python",
   "name": "python3"
  },
  "language_info": {
   "codemirror_mode": {
    "name": "ipython",
    "version": 3
   },
   "file_extension": ".py",
   "mimetype": "text/x-python",
   "name": "python",
   "nbconvert_exporter": "python",
   "pygments_lexer": "ipython3",
   "version": "3.10.4"
  }
 },
 "nbformat": 4,
 "nbformat_minor": 5
}
