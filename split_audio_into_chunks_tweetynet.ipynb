{
 "cells": [
  {
   "cell_type": "code",
   "execution_count": null,
   "id": "fe55a89a-8fc1-4a88-9101-fed09292ac2e",
   "metadata": {},
   "outputs": [],
   "source": [
    "#TODO \n",
    "\n",
    "# maybe start with first annotation"
   ]
  },
  {
   "cell_type": "code",
   "execution_count": 216,
   "id": "7ffb443b-8492-4681-a9f3-f2f8fa86fc8c",
   "metadata": {},
   "outputs": [],
   "source": [
    "from scipy import signal\n",
    "from scipy.io import wavfile\n",
    "from pathlib import Path\n",
    "import pandas as pd\n",
    "import os\n",
    "import math"
   ]
  },
  {
   "cell_type": "code",
   "execution_count": 217,
   "id": "00a54a7c-1f6b-4bcc-a03e-c340f9e8e91e",
   "metadata": {},
   "outputs": [],
   "source": [
    "#e.g.# data_folder = Path(\"source_data/text_files/\")\n",
    "data_folder = Path(r\"C:/Users/haarsmter/Desktop/testTweetyLines2\")\n",
    "#load audiofile\n",
    "filename= 'gy6or6_baseline_220312_0837.6.wav' #3wavs concatenated\n",
    "#data_folder =\n",
    "csvname = 'gy6or6_baseline_220312_0837.6.wav.csv'\n",
    "csvfile  = pd.read_csv(os.path.join(data_folder, csvname)) #only first csv for now =first 9sec"
   ]
  },
  {
   "cell_type": "code",
   "execution_count": 218,
   "id": "b301e11e-9491-4e0e-bc61-f2f353fb5ede",
   "metadata": {},
   "outputs": [],
   "source": [
    "sample_rate, samples = wavfile.read(os.path.join(data_folder, filename)) # gets sample rate and samples from audio file\n",
    "frequencies, times, spectrogram = signal.spectrogram(samples, sample_rate) # gets times frequecies and spectrogram from audio file"
   ]
  },
  {
   "cell_type": "code",
   "execution_count": 219,
   "id": "e5dcd2cf-cb07-4ce0-b4fb-ce8ffdd0cd65",
   "metadata": {},
   "outputs": [
    {
     "data": {
      "text/plain": [
       "6"
      ]
     },
     "execution_count": 219,
     "metadata": {},
     "output_type": "execute_result"
    }
   ],
   "source": [
    "chunksize = 2 # set chunk duration in seconds\n",
    "\n",
    "dur=times[(len(times)-1)] \n",
    "chunks=(math.ceil(dur/chunksize)) # determine how many chunks of 10 secondes and round up (ceil)\n",
    "chunks"
   ]
  },
  {
   "cell_type": "code",
   "execution_count": 222,
   "id": "005e5e87-6248-4b19-8fcc-788080b3e5a8",
   "metadata": {},
   "outputs": [],
   "source": [
    "\n",
    "#new audio name\n",
    "newaudion = str(Path(filename).stem) \n",
    "\n",
    "for i in range(1, chunks):\n",
    "    end=i*chunksize # endtime of chunk\n",
    "    start=end-chunksize # starttime of chunk\n",
    "#chunk csv \n",
    "    csvchunk = csvfile.loc[(csvfile['onset_s'] >= start) & (csvfile['offset_s'] <= end)]\n",
    "#check if annotations in chunk, if not don't save data and skip\n",
    "    if (len(csvchunk.index)) > 0:\n",
    "#chunk audio\n",
    "        samplesend = end * sample_rate\n",
    "        samplesstart = start * sample_rate\n",
    "    #save chunked audio \n",
    "        wavfile.write(os.path.join(data_folder, (str(newaudion + str(i) + '.wav'))), sample_rate, samples[samplesstart: samplesend])\n",
    "    #chunk csv \n",
    "        #csvchunk = csvfile[(csvfile.onset_s >= start) & (csvfile.offset_s <= end)]\n",
    "        csvchunk = csvfile.loc[(csvfile['onset_s'] >= start) & (csvfile['offset_s'] <= end)]\n",
    "    #'reset' time so annotation is alligned with audio (which now starts at 0 instead of start annotation). \n",
    "    #Into new column to avoid warning https://pandas.pydata.org/pandas-docs/stable/user_guide/indexing.html#returning-a-view-versus-a-copy\n",
    "        #csvchunk.onset_s=csvchunk.onset_s +2 -> warning\n",
    "        #csvchunk.offset_s=csvchunk.offset_s +2 -> warning\n",
    "        csvchunk.loc[:,'onset_s'] = csvchunk['onset_s'] - start\n",
    "        csvchunk.loc[:,'offset_s'] = csvchunk['offset_s'] - start\n",
    "        #csvchunk['onsetnew'] = csvchunk.onset_s + chunksize\n",
    "        #csvchunk['offsetnew'] = csvchunk.offset_s + chunksize\n",
    "        #csvchunk = csvchunk.drop(columns=['onset_s', 'offset_s'])\n",
    "        #csvchunk.rename(columns={\"onsetnew\": \"onset_s\", \"offsetnew\": \"offset_s\"})\n",
    "    #save chunked csv               \n",
    "        #new csvname\n",
    "        newname= str(Path(csvname).stem)  #remove .csv extension\n",
    "        newname= str(Path(newname).stem + str(i)) # remove .wav extension and add number i\n",
    "        csvchunk.to_csv(os.path.join(data_folder, newname + '.csv'), index=None)"
   ]
  },
  {
   "cell_type": "code",
   "execution_count": 215,
   "id": "39b40657-076e-4cfe-86b4-5481c95b5ca8",
   "metadata": {},
   "outputs": [
    {
     "ename": "AttributeError",
     "evalue": "'str' object has no attribute 'a'",
     "output_type": "error",
     "traceback": [
      "\u001b[1;31m---------------------------------------------------------------------------\u001b[0m",
      "\u001b[1;31mAttributeError\u001b[0m                            Traceback (most recent call last)",
      "Cell \u001b[1;32mIn[215], line 1\u001b[0m\n\u001b[1;32m----> 1\u001b[0m df\u001b[38;5;241m.\u001b[39ma\u001b[38;5;241m=\u001b[39m\u001b[38;5;124m'\u001b[39m\u001b[38;5;124ma\u001b[39m\u001b[38;5;124m'\u001b[39m\n\u001b[0;32m      2\u001b[0m df\u001b[38;5;241m.\u001b[39mhead()\n",
      "\u001b[1;31mAttributeError\u001b[0m: 'str' object has no attribute 'a'"
     ]
    }
   ],
   "source": [
    "df.a='a'\n",
    "df.head()"
   ]
  },
  {
   "cell_type": "code",
   "execution_count": null,
   "id": "a8ffcc78-84a7-4092-9d67-43227c01af5c",
   "metadata": {},
   "outputs": [
    {
     "data": {
      "text/plain": [
       "11"
      ]
     },
     "execution_count": 212,
     "metadata": {},
     "output_type": "execute_result"
    }
   ],
   "source": [
    "len(csvchunk.index)"
   ]
  },
  {
   "cell_type": "code",
   "execution_count": null,
   "id": "507d75c0-0227-4409-8fdd-4567496a0063",
   "metadata": {},
   "outputs": [],
   "source": [
    "wavefile.write(filename, rate, data)"
   ]
  },
  {
   "cell_type": "code",
   "execution_count": 62,
   "id": "8b6b7d9d-a06f-4d1c-a771-49ffdf63c469",
   "metadata": {},
   "outputs": [
    {
     "data": {
      "text/plain": [
       "64000"
      ]
     },
     "execution_count": 62,
     "metadata": {},
     "output_type": "execute_result"
    }
   ],
   "source": [
    "samplesstart = 2 * sample_rate\n",
    "samplesstart"
   ]
  },
  {
   "cell_type": "code",
   "execution_count": 63,
   "id": "4b51ad80-cb42-4e20-8344-a53b3da96b21",
   "metadata": {},
   "outputs": [
    {
     "data": {
      "text/plain": [
       "array([-209, -219, -245, ..., 1316, 1577, 1596], dtype=int16)"
      ]
     },
     "execution_count": 63,
     "metadata": {},
     "output_type": "execute_result"
    }
   ],
   "source": [
    "samples[0: samplesstart]"
   ]
  },
  {
   "cell_type": "code",
   "execution_count": 54,
   "id": "907d0cf4-e46d-4422-acf5-e435fac85546",
   "metadata": {},
   "outputs": [
    {
     "data": {
      "text/plain": [
       "'gy6or6_baseline_220312_0836.31'"
      ]
     },
     "execution_count": 54,
     "metadata": {},
     "output_type": "execute_result"
    }
   ],
   "source": [
    "i=1\n",
    "#pd.to_csv(data_folder + csvfile + i)\n",
    "#Path(\"/path/to/file.txt\").stem\n",
    "newname= str(Path(csvname).stem)  #remove .csv extension\n",
    "newname= str(Path(newname).stem + str(i)) # remove .wav extension and add number i\n",
    "newname"
   ]
  },
  {
   "cell_type": "code",
   "execution_count": 55,
   "id": "df528a28-cd53-4ec3-b05b-c615f99567e7",
   "metadata": {},
   "outputs": [],
   "source": [
    "csvfile.to_csv(os.path.join(data_folder, newname + '.csv'))"
   ]
  },
  {
   "cell_type": "code",
   "execution_count": 53,
   "id": "7b3e3d14-f73a-40ca-904b-9386657b1baf",
   "metadata": {},
   "outputs": [
    {
     "data": {
      "text/plain": [
       "'gy6or6_baseline_220312_0836'"
      ]
     },
     "execution_count": 53,
     "metadata": {},
     "output_type": "execute_result"
    }
   ],
   "source": [
    "newname= str(Path(newname).stem)\n",
    "newname"
   ]
  },
  {
   "cell_type": "code",
   "execution_count": 65,
   "id": "91f93f97-e0d5-4ce0-8a63-d6b577de9961",
   "metadata": {},
   "outputs": [
    {
     "data": {
      "text/plain": [
       "'gy6or6_baseline_220312_0836.3'"
      ]
     },
     "execution_count": 65,
     "metadata": {},
     "output_type": "execute_result"
    }
   ],
   "source": [
    "newaudion = str(Path(filename).stem) \n",
    "newaudion"
   ]
  },
  {
   "cell_type": "code",
   "execution_count": 67,
   "id": "cbb94f8d-019b-4284-a70b-e953252413fc",
   "metadata": {},
   "outputs": [
    {
     "data": {
      "text/plain": [
       "'gy6or6_baseline_220312_0836.31.wav'"
      ]
     },
     "execution_count": 67,
     "metadata": {},
     "output_type": "execute_result"
    }
   ],
   "source": [
    "str(newaudion + str(i) + '.wav')"
   ]
  },
  {
   "cell_type": "code",
   "execution_count": 80,
   "id": "a4a84d35-6b86-4061-9c2c-7304b5c8670a",
   "metadata": {},
   "outputs": [
    {
     "data": {
      "text/plain": [
       "'gy6or6_baseline_220312_0836.3'"
      ]
     },
     "execution_count": 80,
     "metadata": {},
     "output_type": "execute_result"
    }
   ],
   "source": [
    "newaudion = str(Path(filename).stem) \n",
    "newaudion"
   ]
  },
  {
   "cell_type": "code",
   "execution_count": 179,
   "id": "16768c95-7d23-4535-b65a-dd99ffed6cd5",
   "metadata": {},
   "outputs": [
    {
     "data": {
      "text/html": [
       "<div>\n",
       "<style scoped>\n",
       "    .dataframe tbody tr th:only-of-type {\n",
       "        vertical-align: middle;\n",
       "    }\n",
       "\n",
       "    .dataframe tbody tr th {\n",
       "        vertical-align: top;\n",
       "    }\n",
       "\n",
       "    .dataframe thead th {\n",
       "        text-align: right;\n",
       "    }\n",
       "</style>\n",
       "<table border=\"1\" class=\"dataframe\">\n",
       "  <thead>\n",
       "    <tr style=\"text-align: right;\">\n",
       "      <th></th>\n",
       "      <th>onset_s</th>\n",
       "      <th>offset_s</th>\n",
       "      <th>label</th>\n",
       "    </tr>\n",
       "  </thead>\n",
       "  <tbody>\n",
       "    <tr>\n",
       "      <th>0</th>\n",
       "      <td>2.376812</td>\n",
       "      <td>0.447688</td>\n",
       "      <td>i</td>\n",
       "    </tr>\n",
       "    <tr>\n",
       "      <th>1</th>\n",
       "      <td>2.530594</td>\n",
       "      <td>0.619781</td>\n",
       "      <td>i</td>\n",
       "    </tr>\n",
       "    <tr>\n",
       "      <th>2</th>\n",
       "      <td>2.696687</td>\n",
       "      <td>0.835875</td>\n",
       "      <td>i</td>\n",
       "    </tr>\n",
       "    <tr>\n",
       "      <th>3</th>\n",
       "      <td>2.855500</td>\n",
       "      <td>0.947063</td>\n",
       "      <td>i</td>\n",
       "    </tr>\n",
       "    <tr>\n",
       "      <th>4</th>\n",
       "      <td>3.022594</td>\n",
       "      <td>1.130375</td>\n",
       "      <td>i</td>\n",
       "    </tr>\n",
       "  </tbody>\n",
       "</table>\n",
       "</div>"
      ],
      "text/plain": [
       "    onset_s  offset_s label\n",
       "0  2.376812  0.447688     i\n",
       "1  2.530594  0.619781     i\n",
       "2  2.696687  0.835875     i\n",
       "3  2.855500  0.947063     i\n",
       "4  3.022594  1.130375     i"
      ]
     },
     "execution_count": 179,
     "metadata": {},
     "output_type": "execute_result"
    }
   ],
   "source": [
    "csvfile.head()"
   ]
  },
  {
   "cell_type": "code",
   "execution_count": 178,
   "id": "41e733f0-4842-468a-9568-68de3c38c827",
   "metadata": {},
   "outputs": [
    {
     "data": {
      "text/html": [
       "<div>\n",
       "<style scoped>\n",
       "    .dataframe tbody tr th:only-of-type {\n",
       "        vertical-align: middle;\n",
       "    }\n",
       "\n",
       "    .dataframe tbody tr th {\n",
       "        vertical-align: top;\n",
       "    }\n",
       "\n",
       "    .dataframe thead th {\n",
       "        text-align: right;\n",
       "    }\n",
       "</style>\n",
       "<table border=\"1\" class=\"dataframe\">\n",
       "  <thead>\n",
       "    <tr style=\"text-align: right;\">\n",
       "      <th></th>\n",
       "      <th>onset_s</th>\n",
       "      <th>offset_s</th>\n",
       "      <th>label</th>\n",
       "    </tr>\n",
       "  </thead>\n",
       "  <tbody>\n",
       "    <tr>\n",
       "      <th>43</th>\n",
       "      <td>8.085969</td>\n",
       "      <td>8.131469</td>\n",
       "      <td>a</td>\n",
       "    </tr>\n",
       "    <tr>\n",
       "      <th>44</th>\n",
       "      <td>8.167094</td>\n",
       "      <td>8.232156</td>\n",
       "      <td>b</td>\n",
       "    </tr>\n",
       "    <tr>\n",
       "      <th>45</th>\n",
       "      <td>8.307781</td>\n",
       "      <td>8.367125</td>\n",
       "      <td>c</td>\n",
       "    </tr>\n",
       "    <tr>\n",
       "      <th>46</th>\n",
       "      <td>8.388313</td>\n",
       "      <td>8.454656</td>\n",
       "      <td>d</td>\n",
       "    </tr>\n",
       "    <tr>\n",
       "      <th>47</th>\n",
       "      <td>8.467437</td>\n",
       "      <td>8.532250</td>\n",
       "      <td>e</td>\n",
       "    </tr>\n",
       "  </tbody>\n",
       "</table>\n",
       "</div>"
      ],
      "text/plain": [
       "     onset_s  offset_s label\n",
       "43  8.085969  8.131469     a\n",
       "44  8.167094  8.232156     b\n",
       "45  8.307781  8.367125     c\n",
       "46  8.388313  8.454656     d\n",
       "47  8.467437  8.532250     e"
      ]
     },
     "execution_count": 178,
     "metadata": {},
     "output_type": "execute_result"
    }
   ],
   "source": [
    "csvchunk.head()\n"
   ]
  },
  {
   "cell_type": "code",
   "execution_count": 186,
   "id": "93a0c7f4-a5e7-4cf1-8dc5-54b88e57719c",
   "metadata": {},
   "outputs": [],
   "source": [
    "test=csvfile"
   ]
  },
  {
   "cell_type": "code",
   "execution_count": 185,
   "id": "5ee22387-c675-4083-b80e-60fb2c8b42f2",
   "metadata": {},
   "outputs": [],
   "source": [
    "test.onset_s=test.onset_s +2"
   ]
  },
  {
   "cell_type": "code",
   "execution_count": 197,
   "id": "ec22ee1f-22fe-45a3-b51c-621e95e1ac73",
   "metadata": {},
   "outputs": [
    {
     "data": {
      "text/html": [
       "<div>\n",
       "<style scoped>\n",
       "    .dataframe tbody tr th:only-of-type {\n",
       "        vertical-align: middle;\n",
       "    }\n",
       "\n",
       "    .dataframe tbody tr th {\n",
       "        vertical-align: top;\n",
       "    }\n",
       "\n",
       "    .dataframe thead th {\n",
       "        text-align: right;\n",
       "    }\n",
       "</style>\n",
       "<table border=\"1\" class=\"dataframe\">\n",
       "  <thead>\n",
       "    <tr style=\"text-align: right;\">\n",
       "      <th></th>\n",
       "      <th>onset_s</th>\n",
       "      <th>offset_s</th>\n",
       "      <th>label</th>\n",
       "    </tr>\n",
       "  </thead>\n",
       "  <tbody>\n",
       "    <tr>\n",
       "      <th>0</th>\n",
       "      <td>8.376812</td>\n",
       "      <td>0.447688</td>\n",
       "      <td>i</td>\n",
       "    </tr>\n",
       "    <tr>\n",
       "      <th>1</th>\n",
       "      <td>8.530594</td>\n",
       "      <td>0.619781</td>\n",
       "      <td>i</td>\n",
       "    </tr>\n",
       "    <tr>\n",
       "      <th>2</th>\n",
       "      <td>8.696687</td>\n",
       "      <td>0.835875</td>\n",
       "      <td>i</td>\n",
       "    </tr>\n",
       "    <tr>\n",
       "      <th>3</th>\n",
       "      <td>8.855500</td>\n",
       "      <td>0.947063</td>\n",
       "      <td>i</td>\n",
       "    </tr>\n",
       "    <tr>\n",
       "      <th>4</th>\n",
       "      <td>9.022594</td>\n",
       "      <td>1.130375</td>\n",
       "      <td>i</td>\n",
       "    </tr>\n",
       "  </tbody>\n",
       "</table>\n",
       "</div>"
      ],
      "text/plain": [
       "    onset_s  offset_s label\n",
       "0  8.376812  0.447688     i\n",
       "1  8.530594  0.619781     i\n",
       "2  8.696687  0.835875     i\n",
       "3  8.855500  0.947063     i\n",
       "4  9.022594  1.130375     i"
      ]
     },
     "execution_count": 197,
     "metadata": {},
     "output_type": "execute_result"
    }
   ],
   "source": [
    "test.head()"
   ]
  },
  {
   "cell_type": "code",
   "execution_count": 196,
   "id": "98f0a275-7c51-47a3-91a9-ea206c013917",
   "metadata": {},
   "outputs": [],
   "source": [
    "#df.loc[:, 'colname'] = df['colname'] + 2\n",
    "test.loc[:,'onset_s'] = test['onset_s'] + 2"
   ]
  },
  {
   "cell_type": "code",
   "execution_count": 133,
   "id": "160f75a3-adef-4bff-90dc-9ce7d291e634",
   "metadata": {},
   "outputs": [
    {
     "data": {
      "text/html": [
       "<div>\n",
       "<style scoped>\n",
       "    .dataframe tbody tr th:only-of-type {\n",
       "        vertical-align: middle;\n",
       "    }\n",
       "\n",
       "    .dataframe tbody tr th {\n",
       "        vertical-align: top;\n",
       "    }\n",
       "\n",
       "    .dataframe thead th {\n",
       "        text-align: right;\n",
       "    }\n",
       "</style>\n",
       "<table border=\"1\" class=\"dataframe\">\n",
       "  <thead>\n",
       "    <tr style=\"text-align: right;\">\n",
       "      <th></th>\n",
       "      <th>onset_s</th>\n",
       "      <th>offset_s</th>\n",
       "      <th>label</th>\n",
       "    </tr>\n",
       "  </thead>\n",
       "  <tbody>\n",
       "    <tr>\n",
       "      <th>1</th>\n",
       "      <td>4.530594</td>\n",
       "      <td>0.619781</td>\n",
       "      <td>i</td>\n",
       "    </tr>\n",
       "    <tr>\n",
       "      <th>2</th>\n",
       "      <td>4.696687</td>\n",
       "      <td>0.835875</td>\n",
       "      <td>i</td>\n",
       "    </tr>\n",
       "  </tbody>\n",
       "</table>\n",
       "</div>"
      ],
      "text/plain": [
       "    onset_s  offset_s label\n",
       "1  4.530594  0.619781     i\n",
       "2  4.696687  0.835875     i"
      ]
     },
     "execution_count": 133,
     "metadata": {},
     "output_type": "execute_result"
    }
   ],
   "source": [
    "#age_range = df.loc[(df['Age'] >= 30) & (df['Age'] <= 40), 'Age']\n",
    "test.loc[(test['onset_s'] >= 4.5) & (test['offset_s'] <= 0.9)]\n"
   ]
  },
  {
   "cell_type": "code",
   "execution_count": null,
   "id": "a9dd899d-56af-48c1-b159-0605e990fa7c",
   "metadata": {},
   "outputs": [],
   "source": [
    "test[\"new\"] = test.onset_s + 2"
   ]
  },
  {
   "cell_type": "code",
   "execution_count": 158,
   "id": "8e643ea0-7a88-4e07-abd4-f39d20946b43",
   "metadata": {},
   "outputs": [],
   "source": [
    "#df.loc[:, 'five'] *=5\n",
    "test.loc[:,\"onset_s\"] *= test.onset_s + 2"
   ]
  },
  {
   "cell_type": "code",
   "execution_count": 153,
   "id": "5a1bcdfc-f21d-4362-aa8a-d3f690dc236d",
   "metadata": {},
   "outputs": [
    {
     "ename": "KeyError",
     "evalue": "\"None of [Index([2.3768124999999998,         2.53059375,          2.6966875,\\n                   2.8555,         3.02259375,          3.1888125,\\n                   3.3565,          3.5593125, 3.6990625000000006,\\n       3.8350925853337223, 3.9780301629571646,          4.0768125,\\n               4.18746875,          4.2639375,           4.334125,\\n                4.4203125,         4.49628125,         4.62759375,\\n               4.75359375,         4.81196875,  4.893093750000001,\\n                 5.123875,  5.295437500000001,           5.394375,\\n                 5.510125,         5.58853125,  5.664937500000001,\\n        5.742312500000001,          5.8163125,         6.34378125,\\n               6.52946875,              6.728,          6.8264375,\\n               6.93940625,            7.02025,         7.09703125,\\n               7.17715625,              7.242,          7.3936875,\\n                   7.5315,         7.59053125,         7.67078125,\\n               7.91221875,         8.08596875,         8.16709375,\\n        8.307781250000001,  8.388312500000003,  8.467437499999999,\\n                8.5466875,  8.627531250000002,  8.765218749999999,\\n        8.912500000000001,          8.9716875,         9.05140625],\\n      dtype='float64')] are in the [index]\"",
     "output_type": "error",
     "traceback": [
      "\u001b[1;31m---------------------------------------------------------------------------\u001b[0m",
      "\u001b[1;31mKeyError\u001b[0m                                  Traceback (most recent call last)",
      "Cell \u001b[1;32mIn[153], line 1\u001b[0m\n\u001b[1;32m----> 1\u001b[0m test\u001b[38;5;241m.\u001b[39mloc[(test[\u001b[38;5;124m'\u001b[39m\u001b[38;5;124monset_s\u001b[39m\u001b[38;5;124m'\u001b[39m])]\u001b[38;5;241m=\u001b[39mtest[\u001b[38;5;124m'\u001b[39m\u001b[38;5;124monset_s\u001b[39m\u001b[38;5;124m'\u001b[39m]\u001b[38;5;241m+\u001b[39m\u001b[38;5;241m2\u001b[39m\n",
      "File \u001b[1;32m~\\.conda\\envs\\soundanalyses\\Lib\\site-packages\\pandas\\core\\indexing.py:907\u001b[0m, in \u001b[0;36m_LocationIndexer.__setitem__\u001b[1;34m(self, key, value)\u001b[0m\n\u001b[0;32m    905\u001b[0m     maybe_callable \u001b[38;5;241m=\u001b[39m com\u001b[38;5;241m.\u001b[39mapply_if_callable(key, \u001b[38;5;28mself\u001b[39m\u001b[38;5;241m.\u001b[39mobj)\n\u001b[0;32m    906\u001b[0m     key \u001b[38;5;241m=\u001b[39m \u001b[38;5;28mself\u001b[39m\u001b[38;5;241m.\u001b[39m_check_deprecated_callable_usage(key, maybe_callable)\n\u001b[1;32m--> 907\u001b[0m indexer \u001b[38;5;241m=\u001b[39m \u001b[38;5;28mself\u001b[39m\u001b[38;5;241m.\u001b[39m_get_setitem_indexer(key)\n\u001b[0;32m    908\u001b[0m \u001b[38;5;28mself\u001b[39m\u001b[38;5;241m.\u001b[39m_has_valid_setitem_indexer(key)\n\u001b[0;32m    910\u001b[0m iloc \u001b[38;5;241m=\u001b[39m \u001b[38;5;28mself\u001b[39m \u001b[38;5;28;01mif\u001b[39;00m \u001b[38;5;28mself\u001b[39m\u001b[38;5;241m.\u001b[39mname \u001b[38;5;241m==\u001b[39m \u001b[38;5;124m\"\u001b[39m\u001b[38;5;124miloc\u001b[39m\u001b[38;5;124m\"\u001b[39m \u001b[38;5;28;01melse\u001b[39;00m \u001b[38;5;28mself\u001b[39m\u001b[38;5;241m.\u001b[39mobj\u001b[38;5;241m.\u001b[39miloc\n",
      "File \u001b[1;32m~\\.conda\\envs\\soundanalyses\\Lib\\site-packages\\pandas\\core\\indexing.py:780\u001b[0m, in \u001b[0;36m_LocationIndexer._get_setitem_indexer\u001b[1;34m(self, key)\u001b[0m\n\u001b[0;32m    776\u001b[0m \u001b[38;5;28;01mif\u001b[39;00m \u001b[38;5;28misinstance\u001b[39m(key, \u001b[38;5;28mrange\u001b[39m):\n\u001b[0;32m    777\u001b[0m     \u001b[38;5;66;03m# GH#45479 test_loc_setitem_range_key\u001b[39;00m\n\u001b[0;32m    778\u001b[0m     key \u001b[38;5;241m=\u001b[39m \u001b[38;5;28mlist\u001b[39m(key)\n\u001b[1;32m--> 780\u001b[0m \u001b[38;5;28;01mreturn\u001b[39;00m \u001b[38;5;28mself\u001b[39m\u001b[38;5;241m.\u001b[39m_convert_to_indexer(key, axis\u001b[38;5;241m=\u001b[39m\u001b[38;5;241m0\u001b[39m)\n",
      "File \u001b[1;32m~\\.conda\\envs\\soundanalyses\\Lib\\site-packages\\pandas\\core\\indexing.py:1522\u001b[0m, in \u001b[0;36m_LocIndexer._convert_to_indexer\u001b[1;34m(self, key, axis)\u001b[0m\n\u001b[0;32m   1520\u001b[0m         \u001b[38;5;28;01mreturn\u001b[39;00m key\n\u001b[0;32m   1521\u001b[0m     \u001b[38;5;28;01melse\u001b[39;00m:\n\u001b[1;32m-> 1522\u001b[0m         \u001b[38;5;28;01mreturn\u001b[39;00m \u001b[38;5;28mself\u001b[39m\u001b[38;5;241m.\u001b[39m_get_listlike_indexer(key, axis)[\u001b[38;5;241m1\u001b[39m]\n\u001b[0;32m   1523\u001b[0m \u001b[38;5;28;01melse\u001b[39;00m:\n\u001b[0;32m   1524\u001b[0m     \u001b[38;5;28;01mtry\u001b[39;00m:\n",
      "File \u001b[1;32m~\\.conda\\envs\\soundanalyses\\Lib\\site-packages\\pandas\\core\\indexing.py:1558\u001b[0m, in \u001b[0;36m_LocIndexer._get_listlike_indexer\u001b[1;34m(self, key, axis)\u001b[0m\n\u001b[0;32m   1555\u001b[0m ax \u001b[38;5;241m=\u001b[39m \u001b[38;5;28mself\u001b[39m\u001b[38;5;241m.\u001b[39mobj\u001b[38;5;241m.\u001b[39m_get_axis(axis)\n\u001b[0;32m   1556\u001b[0m axis_name \u001b[38;5;241m=\u001b[39m \u001b[38;5;28mself\u001b[39m\u001b[38;5;241m.\u001b[39mobj\u001b[38;5;241m.\u001b[39m_get_axis_name(axis)\n\u001b[1;32m-> 1558\u001b[0m keyarr, indexer \u001b[38;5;241m=\u001b[39m ax\u001b[38;5;241m.\u001b[39m_get_indexer_strict(key, axis_name)\n\u001b[0;32m   1560\u001b[0m \u001b[38;5;28;01mreturn\u001b[39;00m keyarr, indexer\n",
      "File \u001b[1;32m~\\.conda\\envs\\soundanalyses\\Lib\\site-packages\\pandas\\core\\indexes\\base.py:6200\u001b[0m, in \u001b[0;36mIndex._get_indexer_strict\u001b[1;34m(self, key, axis_name)\u001b[0m\n\u001b[0;32m   6197\u001b[0m \u001b[38;5;28;01melse\u001b[39;00m:\n\u001b[0;32m   6198\u001b[0m     keyarr, indexer, new_indexer \u001b[38;5;241m=\u001b[39m \u001b[38;5;28mself\u001b[39m\u001b[38;5;241m.\u001b[39m_reindex_non_unique(keyarr)\n\u001b[1;32m-> 6200\u001b[0m \u001b[38;5;28mself\u001b[39m\u001b[38;5;241m.\u001b[39m_raise_if_missing(keyarr, indexer, axis_name)\n\u001b[0;32m   6202\u001b[0m keyarr \u001b[38;5;241m=\u001b[39m \u001b[38;5;28mself\u001b[39m\u001b[38;5;241m.\u001b[39mtake(indexer)\n\u001b[0;32m   6203\u001b[0m \u001b[38;5;28;01mif\u001b[39;00m \u001b[38;5;28misinstance\u001b[39m(key, Index):\n\u001b[0;32m   6204\u001b[0m     \u001b[38;5;66;03m# GH 42790 - Preserve name from an Index\u001b[39;00m\n",
      "File \u001b[1;32m~\\.conda\\envs\\soundanalyses\\Lib\\site-packages\\pandas\\core\\indexes\\base.py:6249\u001b[0m, in \u001b[0;36mIndex._raise_if_missing\u001b[1;34m(self, key, indexer, axis_name)\u001b[0m\n\u001b[0;32m   6247\u001b[0m \u001b[38;5;28;01mif\u001b[39;00m nmissing:\n\u001b[0;32m   6248\u001b[0m     \u001b[38;5;28;01mif\u001b[39;00m nmissing \u001b[38;5;241m==\u001b[39m \u001b[38;5;28mlen\u001b[39m(indexer):\n\u001b[1;32m-> 6249\u001b[0m         \u001b[38;5;28;01mraise\u001b[39;00m \u001b[38;5;167;01mKeyError\u001b[39;00m(\u001b[38;5;124mf\u001b[39m\u001b[38;5;124m\"\u001b[39m\u001b[38;5;124mNone of [\u001b[39m\u001b[38;5;132;01m{\u001b[39;00mkey\u001b[38;5;132;01m}\u001b[39;00m\u001b[38;5;124m] are in the [\u001b[39m\u001b[38;5;132;01m{\u001b[39;00maxis_name\u001b[38;5;132;01m}\u001b[39;00m\u001b[38;5;124m]\u001b[39m\u001b[38;5;124m\"\u001b[39m)\n\u001b[0;32m   6251\u001b[0m     not_found \u001b[38;5;241m=\u001b[39m \u001b[38;5;28mlist\u001b[39m(ensure_index(key)[missing_mask\u001b[38;5;241m.\u001b[39mnonzero()[\u001b[38;5;241m0\u001b[39m]]\u001b[38;5;241m.\u001b[39munique())\n\u001b[0;32m   6252\u001b[0m     \u001b[38;5;28;01mraise\u001b[39;00m \u001b[38;5;167;01mKeyError\u001b[39;00m(\u001b[38;5;124mf\u001b[39m\u001b[38;5;124m\"\u001b[39m\u001b[38;5;132;01m{\u001b[39;00mnot_found\u001b[38;5;132;01m}\u001b[39;00m\u001b[38;5;124m not in index\u001b[39m\u001b[38;5;124m\"\u001b[39m)\n",
      "\u001b[1;31mKeyError\u001b[0m: \"None of [Index([2.3768124999999998,         2.53059375,          2.6966875,\\n                   2.8555,         3.02259375,          3.1888125,\\n                   3.3565,          3.5593125, 3.6990625000000006,\\n       3.8350925853337223, 3.9780301629571646,          4.0768125,\\n               4.18746875,          4.2639375,           4.334125,\\n                4.4203125,         4.49628125,         4.62759375,\\n               4.75359375,         4.81196875,  4.893093750000001,\\n                 5.123875,  5.295437500000001,           5.394375,\\n                 5.510125,         5.58853125,  5.664937500000001,\\n        5.742312500000001,          5.8163125,         6.34378125,\\n               6.52946875,              6.728,          6.8264375,\\n               6.93940625,            7.02025,         7.09703125,\\n               7.17715625,              7.242,          7.3936875,\\n                   7.5315,         7.59053125,         7.67078125,\\n               7.91221875,         8.08596875,         8.16709375,\\n        8.307781250000001,  8.388312500000003,  8.467437499999999,\\n                8.5466875,  8.627531250000002,  8.765218749999999,\\n        8.912500000000001,          8.9716875,         9.05140625],\\n      dtype='float64')] are in the [index]\""
     ]
    }
   ],
   "source": [
    "test.loc[(test['onset_s'])]=test['onset_s']+2"
   ]
  },
  {
   "cell_type": "code",
   "execution_count": null,
   "id": "8f177cbd-e82f-465b-b22b-73eb368e4ab3",
   "metadata": {},
   "outputs": [],
   "source": [
    "test=test(columns=list('onset_s', 'offset_s', 'label'))"
   ]
  },
  {
   "cell_type": "code",
   "execution_count": null,
   "id": "d0a03d51-5a5a-4017-8bae-f980a2f5c14d",
   "metadata": {},
   "outputs": [],
   "source": [
    "columnames=list(test.columns)\n",
    "columnames"
   ]
  },
  {
   "cell_type": "code",
   "execution_count": null,
   "id": "0082cfee-9ef3-42d3-a222-5b9b068547d9",
   "metadata": {},
   "outputs": [],
   "source": [
    "cn=columnames.remove('label')"
   ]
  },
  {
   "cell_type": "code",
   "execution_count": null,
   "id": "f108e5a7-7c62-464a-8085-bb742bf72fb4",
   "metadata": {},
   "outputs": [],
   "source": [
    "df1 = csvchunk.drop(columns=['onset_s', 'offset_s'])"
   ]
  },
  {
   "cell_type": "code",
   "execution_count": 140,
   "id": "f78fbf5e-ba3c-4fa2-a842-b0977738c511",
   "metadata": {},
   "outputs": [
    {
     "data": {
      "text/html": [
       "<div>\n",
       "<style scoped>\n",
       "    .dataframe tbody tr th:only-of-type {\n",
       "        vertical-align: middle;\n",
       "    }\n",
       "\n",
       "    .dataframe tbody tr th {\n",
       "        vertical-align: top;\n",
       "    }\n",
       "\n",
       "    .dataframe thead th {\n",
       "        text-align: right;\n",
       "    }\n",
       "</style>\n",
       "<table border=\"1\" class=\"dataframe\">\n",
       "  <thead>\n",
       "    <tr style=\"text-align: right;\">\n",
       "      <th></th>\n",
       "      <th>label</th>\n",
       "    </tr>\n",
       "  </thead>\n",
       "  <tbody>\n",
       "    <tr>\n",
       "      <th>43</th>\n",
       "      <td>a</td>\n",
       "    </tr>\n",
       "    <tr>\n",
       "      <th>44</th>\n",
       "      <td>b</td>\n",
       "    </tr>\n",
       "    <tr>\n",
       "      <th>45</th>\n",
       "      <td>c</td>\n",
       "    </tr>\n",
       "    <tr>\n",
       "      <th>46</th>\n",
       "      <td>d</td>\n",
       "    </tr>\n",
       "    <tr>\n",
       "      <th>47</th>\n",
       "      <td>e</td>\n",
       "    </tr>\n",
       "  </tbody>\n",
       "</table>\n",
       "</div>"
      ],
      "text/plain": [
       "   label\n",
       "43     a\n",
       "44     b\n",
       "45     c\n",
       "46     d\n",
       "47     e"
      ]
     },
     "execution_count": 140,
     "metadata": {},
     "output_type": "execute_result"
    }
   ],
   "source": [
    "df1.head()"
   ]
  },
  {
   "cell_type": "code",
   "execution_count": 116,
   "id": "caf08064-d68f-4cfb-b8a6-b1558286040c",
   "metadata": {},
   "outputs": [
    {
     "ename": "KeyError",
     "evalue": "\"None of [Index([         4.3768125, 4.5305937499999995, 4.6966874999999995,\\n                   4.8555,         5.02259375,          5.1888125,\\n       5.3565000000000005,          5.5593125,          5.6990625,\\n        5.835092585333722,  5.978030162957165,          6.0768125,\\n               6.18746875,          6.2639375,           6.334125,\\n                6.4203125,         6.49628125,         6.62759375,\\n               6.75359375,         6.81196875,  6.893093750000001,\\n                 7.123875,  7.295437500000001,           7.394375,\\n                 7.510125,         7.58853125,  7.664937500000001,\\n        7.742312500000001,          7.8163125,         8.34378125,\\n               8.52946875,              8.728,          8.8264375,\\n        8.939406250000001,            9.02025,         9.09703125,\\n               9.17715625,              9.242,          9.3936875,\\n        9.531500000000001,         9.59053125,  9.670781250000001,\\n        9.912218750000001,        10.08596875,        10.16709375,\\n       10.307781250000001, 10.388312500000003, 10.467437499999999,\\n               10.5466875, 10.627531250000002, 10.765218749999999,\\n       10.912500000000001,         10.9716875,        11.05140625],\\n      dtype='float64')] are in the [index]\"",
     "output_type": "error",
     "traceback": [
      "\u001b[1;31m---------------------------------------------------------------------------\u001b[0m",
      "\u001b[1;31mKeyError\u001b[0m                                  Traceback (most recent call last)",
      "Cell \u001b[1;32mIn[116], line 2\u001b[0m\n\u001b[0;32m      1\u001b[0m \u001b[38;5;66;03m#df.loc[df['Fare']>512, 'Fare']=df.loc[df['Fare']>512, 'Fare'].astype(int).replace({512:263},inplace=True)\u001b[39;00m\n\u001b[1;32m----> 2\u001b[0m test\u001b[38;5;241m.\u001b[39mloc[test[\u001b[38;5;124m\"\u001b[39m\u001b[38;5;124monset_s\u001b[39m\u001b[38;5;124m\"\u001b[39m]]\u001b[38;5;241m=\u001b[39mtest\u001b[38;5;241m.\u001b[39mloc[test[\u001b[38;5;124m\"\u001b[39m\u001b[38;5;124monset_s\u001b[39m\u001b[38;5;124m\"\u001b[39m]]\u001b[38;5;241m.\u001b[39mreplace([test[\u001b[38;5;124m\"\u001b[39m\u001b[38;5;124monset_s\u001b[39m\u001b[38;5;124m\"\u001b[39m]] \u001b[38;5;241m+\u001b[39m \u001b[38;5;241m2\u001b[39m)\n",
      "File \u001b[1;32m~\\.conda\\envs\\soundanalyses\\Lib\\site-packages\\pandas\\core\\indexing.py:1191\u001b[0m, in \u001b[0;36m_LocationIndexer.__getitem__\u001b[1;34m(self, key)\u001b[0m\n\u001b[0;32m   1189\u001b[0m maybe_callable \u001b[38;5;241m=\u001b[39m com\u001b[38;5;241m.\u001b[39mapply_if_callable(key, \u001b[38;5;28mself\u001b[39m\u001b[38;5;241m.\u001b[39mobj)\n\u001b[0;32m   1190\u001b[0m maybe_callable \u001b[38;5;241m=\u001b[39m \u001b[38;5;28mself\u001b[39m\u001b[38;5;241m.\u001b[39m_check_deprecated_callable_usage(key, maybe_callable)\n\u001b[1;32m-> 1191\u001b[0m \u001b[38;5;28;01mreturn\u001b[39;00m \u001b[38;5;28mself\u001b[39m\u001b[38;5;241m.\u001b[39m_getitem_axis(maybe_callable, axis\u001b[38;5;241m=\u001b[39maxis)\n",
      "File \u001b[1;32m~\\.conda\\envs\\soundanalyses\\Lib\\site-packages\\pandas\\core\\indexing.py:1420\u001b[0m, in \u001b[0;36m_LocIndexer._getitem_axis\u001b[1;34m(self, key, axis)\u001b[0m\n\u001b[0;32m   1417\u001b[0m     \u001b[38;5;28;01mif\u001b[39;00m \u001b[38;5;28mhasattr\u001b[39m(key, \u001b[38;5;124m\"\u001b[39m\u001b[38;5;124mndim\u001b[39m\u001b[38;5;124m\"\u001b[39m) \u001b[38;5;129;01mand\u001b[39;00m key\u001b[38;5;241m.\u001b[39mndim \u001b[38;5;241m>\u001b[39m \u001b[38;5;241m1\u001b[39m:\n\u001b[0;32m   1418\u001b[0m         \u001b[38;5;28;01mraise\u001b[39;00m \u001b[38;5;167;01mValueError\u001b[39;00m(\u001b[38;5;124m\"\u001b[39m\u001b[38;5;124mCannot index with multidimensional key\u001b[39m\u001b[38;5;124m\"\u001b[39m)\n\u001b[1;32m-> 1420\u001b[0m     \u001b[38;5;28;01mreturn\u001b[39;00m \u001b[38;5;28mself\u001b[39m\u001b[38;5;241m.\u001b[39m_getitem_iterable(key, axis\u001b[38;5;241m=\u001b[39maxis)\n\u001b[0;32m   1422\u001b[0m \u001b[38;5;66;03m# nested tuple slicing\u001b[39;00m\n\u001b[0;32m   1423\u001b[0m \u001b[38;5;28;01mif\u001b[39;00m is_nested_tuple(key, labels):\n",
      "File \u001b[1;32m~\\.conda\\envs\\soundanalyses\\Lib\\site-packages\\pandas\\core\\indexing.py:1360\u001b[0m, in \u001b[0;36m_LocIndexer._getitem_iterable\u001b[1;34m(self, key, axis)\u001b[0m\n\u001b[0;32m   1357\u001b[0m \u001b[38;5;28mself\u001b[39m\u001b[38;5;241m.\u001b[39m_validate_key(key, axis)\n\u001b[0;32m   1359\u001b[0m \u001b[38;5;66;03m# A collection of keys\u001b[39;00m\n\u001b[1;32m-> 1360\u001b[0m keyarr, indexer \u001b[38;5;241m=\u001b[39m \u001b[38;5;28mself\u001b[39m\u001b[38;5;241m.\u001b[39m_get_listlike_indexer(key, axis)\n\u001b[0;32m   1361\u001b[0m \u001b[38;5;28;01mreturn\u001b[39;00m \u001b[38;5;28mself\u001b[39m\u001b[38;5;241m.\u001b[39mobj\u001b[38;5;241m.\u001b[39m_reindex_with_indexers(\n\u001b[0;32m   1362\u001b[0m     {axis: [keyarr, indexer]}, copy\u001b[38;5;241m=\u001b[39m\u001b[38;5;28;01mTrue\u001b[39;00m, allow_dups\u001b[38;5;241m=\u001b[39m\u001b[38;5;28;01mTrue\u001b[39;00m\n\u001b[0;32m   1363\u001b[0m )\n",
      "File \u001b[1;32m~\\.conda\\envs\\soundanalyses\\Lib\\site-packages\\pandas\\core\\indexing.py:1558\u001b[0m, in \u001b[0;36m_LocIndexer._get_listlike_indexer\u001b[1;34m(self, key, axis)\u001b[0m\n\u001b[0;32m   1555\u001b[0m ax \u001b[38;5;241m=\u001b[39m \u001b[38;5;28mself\u001b[39m\u001b[38;5;241m.\u001b[39mobj\u001b[38;5;241m.\u001b[39m_get_axis(axis)\n\u001b[0;32m   1556\u001b[0m axis_name \u001b[38;5;241m=\u001b[39m \u001b[38;5;28mself\u001b[39m\u001b[38;5;241m.\u001b[39mobj\u001b[38;5;241m.\u001b[39m_get_axis_name(axis)\n\u001b[1;32m-> 1558\u001b[0m keyarr, indexer \u001b[38;5;241m=\u001b[39m ax\u001b[38;5;241m.\u001b[39m_get_indexer_strict(key, axis_name)\n\u001b[0;32m   1560\u001b[0m \u001b[38;5;28;01mreturn\u001b[39;00m keyarr, indexer\n",
      "File \u001b[1;32m~\\.conda\\envs\\soundanalyses\\Lib\\site-packages\\pandas\\core\\indexes\\base.py:6200\u001b[0m, in \u001b[0;36mIndex._get_indexer_strict\u001b[1;34m(self, key, axis_name)\u001b[0m\n\u001b[0;32m   6197\u001b[0m \u001b[38;5;28;01melse\u001b[39;00m:\n\u001b[0;32m   6198\u001b[0m     keyarr, indexer, new_indexer \u001b[38;5;241m=\u001b[39m \u001b[38;5;28mself\u001b[39m\u001b[38;5;241m.\u001b[39m_reindex_non_unique(keyarr)\n\u001b[1;32m-> 6200\u001b[0m \u001b[38;5;28mself\u001b[39m\u001b[38;5;241m.\u001b[39m_raise_if_missing(keyarr, indexer, axis_name)\n\u001b[0;32m   6202\u001b[0m keyarr \u001b[38;5;241m=\u001b[39m \u001b[38;5;28mself\u001b[39m\u001b[38;5;241m.\u001b[39mtake(indexer)\n\u001b[0;32m   6203\u001b[0m \u001b[38;5;28;01mif\u001b[39;00m \u001b[38;5;28misinstance\u001b[39m(key, Index):\n\u001b[0;32m   6204\u001b[0m     \u001b[38;5;66;03m# GH 42790 - Preserve name from an Index\u001b[39;00m\n",
      "File \u001b[1;32m~\\.conda\\envs\\soundanalyses\\Lib\\site-packages\\pandas\\core\\indexes\\base.py:6249\u001b[0m, in \u001b[0;36mIndex._raise_if_missing\u001b[1;34m(self, key, indexer, axis_name)\u001b[0m\n\u001b[0;32m   6247\u001b[0m \u001b[38;5;28;01mif\u001b[39;00m nmissing:\n\u001b[0;32m   6248\u001b[0m     \u001b[38;5;28;01mif\u001b[39;00m nmissing \u001b[38;5;241m==\u001b[39m \u001b[38;5;28mlen\u001b[39m(indexer):\n\u001b[1;32m-> 6249\u001b[0m         \u001b[38;5;28;01mraise\u001b[39;00m \u001b[38;5;167;01mKeyError\u001b[39;00m(\u001b[38;5;124mf\u001b[39m\u001b[38;5;124m\"\u001b[39m\u001b[38;5;124mNone of [\u001b[39m\u001b[38;5;132;01m{\u001b[39;00mkey\u001b[38;5;132;01m}\u001b[39;00m\u001b[38;5;124m] are in the [\u001b[39m\u001b[38;5;132;01m{\u001b[39;00maxis_name\u001b[38;5;132;01m}\u001b[39;00m\u001b[38;5;124m]\u001b[39m\u001b[38;5;124m\"\u001b[39m)\n\u001b[0;32m   6251\u001b[0m     not_found \u001b[38;5;241m=\u001b[39m \u001b[38;5;28mlist\u001b[39m(ensure_index(key)[missing_mask\u001b[38;5;241m.\u001b[39mnonzero()[\u001b[38;5;241m0\u001b[39m]]\u001b[38;5;241m.\u001b[39munique())\n\u001b[0;32m   6252\u001b[0m     \u001b[38;5;28;01mraise\u001b[39;00m \u001b[38;5;167;01mKeyError\u001b[39;00m(\u001b[38;5;124mf\u001b[39m\u001b[38;5;124m\"\u001b[39m\u001b[38;5;132;01m{\u001b[39;00mnot_found\u001b[38;5;132;01m}\u001b[39;00m\u001b[38;5;124m not in index\u001b[39m\u001b[38;5;124m\"\u001b[39m)\n",
      "\u001b[1;31mKeyError\u001b[0m: \"None of [Index([         4.3768125, 4.5305937499999995, 4.6966874999999995,\\n                   4.8555,         5.02259375,          5.1888125,\\n       5.3565000000000005,          5.5593125,          5.6990625,\\n        5.835092585333722,  5.978030162957165,          6.0768125,\\n               6.18746875,          6.2639375,           6.334125,\\n                6.4203125,         6.49628125,         6.62759375,\\n               6.75359375,         6.81196875,  6.893093750000001,\\n                 7.123875,  7.295437500000001,           7.394375,\\n                 7.510125,         7.58853125,  7.664937500000001,\\n        7.742312500000001,          7.8163125,         8.34378125,\\n               8.52946875,              8.728,          8.8264375,\\n        8.939406250000001,            9.02025,         9.09703125,\\n               9.17715625,              9.242,          9.3936875,\\n        9.531500000000001,         9.59053125,  9.670781250000001,\\n        9.912218750000001,        10.08596875,        10.16709375,\\n       10.307781250000001, 10.388312500000003, 10.467437499999999,\\n               10.5466875, 10.627531250000002, 10.765218749999999,\\n       10.912500000000001,         10.9716875,        11.05140625],\\n      dtype='float64')] are in the [index]\""
     ]
    }
   ],
   "source": [
    "#df.loc[df['Fare']>512, 'Fare']=df.loc[df['Fare']>512, 'Fare'].astype(int).replace({512:263},inplace=True)\n",
    "test.loc[test[\"onset_s\"]]=[test[\"onset_s\"]].replace([test[\"onset_s\"]] + 2)"
   ]
  },
  {
   "cell_type": "code",
   "execution_count": null,
   "id": "e03267fb-ee33-4b0b-8376-ff4b0a05e70c",
   "metadata": {},
   "outputs": [],
   "source": []
  }
 ],
 "metadata": {
  "kernelspec": {
   "display_name": "Python 3 (ipykernel)",
   "language": "python",
   "name": "python3"
  },
  "language_info": {
   "codemirror_mode": {
    "name": "ipython",
    "version": 3
   },
   "file_extension": ".py",
   "mimetype": "text/x-python",
   "name": "python",
   "nbconvert_exporter": "python",
   "pygments_lexer": "ipython3",
   "version": "3.12.8"
  }
 },
 "nbformat": 4,
 "nbformat_minor": 5
}
