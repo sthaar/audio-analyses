{
 "cells": [
  {
   "cell_type": "code",
   "execution_count": 98,
   "id": "f545bc06-c651-495e-8938-934bd7f2e7c6",
   "metadata": {},
   "outputs": [],
   "source": [
    "from scipy import signal\n",
    "from scipy.io import wavfile\n",
    "from pathlib import Path\n",
    "import pandas as pd\n",
    "import os\n",
    "import math\n"
   ]
  },
  {
   "cell_type": "code",
   "execution_count": 99,
   "id": "00a54a7c-1f6b-4bcc-a03e-c340f9e8e91e",
   "metadata": {},
   "outputs": [],
   "source": [
    "#e.g.# data_folder = Path(\"source_data/text_files/\")\n",
    "data_folder = Path(r\"C:/Users/haarsmter/Desktop/testTweetyLines2\")\n",
    "#load audiofile\n",
    "filename= 'gy6or6_baseline_220312_0836.3.wav' #3wavs concatenated\n",
    "#data_folder =\n",
    "csvname = 'gy6or6_baseline_220312_0836.3.wav.csv'\n",
    "csvfile  = pd.read_csv(os.path.join(data_folder, csvname)) #only first csv for now =first 9sec"
   ]
  },
  {
   "cell_type": "code",
   "execution_count": 100,
   "id": "b301e11e-9491-4e0e-bc61-f2f353fb5ede",
   "metadata": {},
   "outputs": [],
   "source": [
    "sample_rate, samples = wavfile.read(os.path.join(data_folder, filename)) # gets sample rate and samples from audio file\n",
    "frequencies, times, spectrogram = signal.spectrogram(samples, sample_rate) # gets times frequecies and spectrogram from audio file"
   ]
  },
  {
   "cell_type": "code",
   "execution_count": 101,
   "id": "e5dcd2cf-cb07-4ce0-b4fb-ce8ffdd0cd65",
   "metadata": {},
   "outputs": [
    {
     "data": {
      "text/plain": [
       "5"
      ]
     },
     "execution_count": 101,
     "metadata": {},
     "output_type": "execute_result"
    }
   ],
   "source": [
    "dur=times[(len(times)-1)] \n",
    "chunks=(math.ceil(dur/2)) # determine how many chunks of 10 secondes and round up (ceil)\n",
    "chunks"
   ]
  },
  {
   "cell_type": "code",
   "execution_count": 102,
   "id": "005e5e87-6248-4b19-8fcc-788080b3e5a8",
   "metadata": {},
   "outputs": [
    {
     "name": "stderr",
     "output_type": "stream",
     "text": [
      "C:\\Users\\haarsmter\\AppData\\Local\\Temp\\ipykernel_380772\\1719869662.py:17: SettingWithCopyWarning: \n",
      "A value is trying to be set on a copy of a slice from a DataFrame.\n",
      "Try using .loc[row_indexer,col_indexer] = value instead\n",
      "\n",
      "See the caveats in the documentation: https://pandas.pydata.org/pandas-docs/stable/user_guide/indexing.html#returning-a-view-versus-a-copy\n",
      "  csvchunk.onset_s = csvchunk.onset_s + chunksize\n",
      "C:\\Users\\haarsmter\\AppData\\Local\\Temp\\ipykernel_380772\\1719869662.py:18: SettingWithCopyWarning: \n",
      "A value is trying to be set on a copy of a slice from a DataFrame.\n",
      "Try using .loc[row_indexer,col_indexer] = value instead\n",
      "\n",
      "See the caveats in the documentation: https://pandas.pydata.org/pandas-docs/stable/user_guide/indexing.html#returning-a-view-versus-a-copy\n",
      "  csvchunk.offset_s = csvchunk.offset_s + chunksize\n"
     ]
    }
   ],
   "source": [
    "chunksize = 2 # chunk duration in seconds\n",
    "\n",
    "#new audio name\n",
    "newaudion = str(Path(filename).stem) \n",
    "\n",
    "for i in range(1, chunks):\n",
    "    end=i*chunksize # endtime of chunk\n",
    "    start=end-chunksize # starttime of chunk\n",
    "#chunk audio\n",
    "    samplesend = end * sample_rate\n",
    "    samplesstart = start * sample_rate\n",
    "#save chunked audio \n",
    "    wavfile.write(os.path.join(data_folder, (str(newaudion + str(i) + '.wav'))), sample_rate, samples[samplesstart: samplesend])\n",
    "#chunk csv \n",
    "    csvchunk = csvfile[(csvfile.onset_s >= start) & (csvfile.offset_s <= end)]\n",
    "#'reset' time so annotation is alligned with audio (which now starts at 0 instead of start annotation)\n",
    "    csvchunk.onset_s = csvchunk.onset_s + chunksize\n",
    "    csvchunk.offset_s = csvchunk.offset_s + chunksize\n",
    "\n",
    "#(df['Age'] >= 30) & (df['Age'] <= 40)\n",
    "\n",
    "#save chunked csv               \n",
    "    #new csvname\n",
    "    newname= str(Path(csvname).stem)  #remove .csv extension\n",
    "    newname= str(Path(newname).stem + str(i)) # remove .wav extension and add number i\n",
    "    csvchunk.to_csv(os.path.join(data_folder, newname + '.csv'))"
   ]
  },
  {
   "cell_type": "code",
   "execution_count": null,
   "id": "8d611b78-ee8f-4406-9d92-b3c3cbb008a6",
   "metadata": {},
   "outputs": [],
   "source": [
    "wavefile.write(filename, rate, data)"
   ]
  },
  {
   "cell_type": "code",
   "execution_count": 62,
   "id": "8b6b7d9d-a06f-4d1c-a771-49ffdf63c469",
   "metadata": {},
   "outputs": [
    {
     "data": {
      "text/plain": [
       "64000"
      ]
     },
     "execution_count": 62,
     "metadata": {},
     "output_type": "execute_result"
    }
   ],
   "source": [
    "samplesstart = 2 * sample_rate\n",
    "samplesstart"
   ]
  },
  {
   "cell_type": "code",
   "execution_count": 63,
   "id": "4b51ad80-cb42-4e20-8344-a53b3da96b21",
   "metadata": {},
   "outputs": [
    {
     "data": {
      "text/plain": [
       "array([-209, -219, -245, ..., 1316, 1577, 1596], dtype=int16)"
      ]
     },
     "execution_count": 63,
     "metadata": {},
     "output_type": "execute_result"
    }
   ],
   "source": [
    "samples[0: samplesstart]"
   ]
  },
  {
   "cell_type": "code",
   "execution_count": 54,
   "id": "907d0cf4-e46d-4422-acf5-e435fac85546",
   "metadata": {},
   "outputs": [
    {
     "data": {
      "text/plain": [
       "'gy6or6_baseline_220312_0836.31'"
      ]
     },
     "execution_count": 54,
     "metadata": {},
     "output_type": "execute_result"
    }
   ],
   "source": [
    "i=1\n",
    "#pd.to_csv(data_folder + csvfile + i)\n",
    "#Path(\"/path/to/file.txt\").stem\n",
    "newname= str(Path(csvname).stem)  #remove .csv extension\n",
    "newname= str(Path(newname).stem + str(i)) # remove .wav extension and add number i\n",
    "newname"
   ]
  },
  {
   "cell_type": "code",
   "execution_count": 55,
   "id": "df528a28-cd53-4ec3-b05b-c615f99567e7",
   "metadata": {},
   "outputs": [],
   "source": [
    "csvfile.to_csv(os.path.join(data_folder, newname + '.csv'))"
   ]
  },
  {
   "cell_type": "code",
   "execution_count": 53,
   "id": "7b3e3d14-f73a-40ca-904b-9386657b1baf",
   "metadata": {},
   "outputs": [
    {
     "data": {
      "text/plain": [
       "'gy6or6_baseline_220312_0836'"
      ]
     },
     "execution_count": 53,
     "metadata": {},
     "output_type": "execute_result"
    }
   ],
   "source": [
    "newname= str(Path(newname).stem)\n",
    "newname"
   ]
  },
  {
   "cell_type": "code",
   "execution_count": 65,
   "id": "91f93f97-e0d5-4ce0-8a63-d6b577de9961",
   "metadata": {},
   "outputs": [
    {
     "data": {
      "text/plain": [
       "'gy6or6_baseline_220312_0836.3'"
      ]
     },
     "execution_count": 65,
     "metadata": {},
     "output_type": "execute_result"
    }
   ],
   "source": [
    "newaudion = str(Path(filename).stem) \n",
    "newaudion"
   ]
  },
  {
   "cell_type": "code",
   "execution_count": 67,
   "id": "cbb94f8d-019b-4284-a70b-e953252413fc",
   "metadata": {},
   "outputs": [
    {
     "data": {
      "text/plain": [
       "'gy6or6_baseline_220312_0836.31.wav'"
      ]
     },
     "execution_count": 67,
     "metadata": {},
     "output_type": "execute_result"
    }
   ],
   "source": [
    "str(newaudion + str(i) + '.wav')"
   ]
  },
  {
   "cell_type": "code",
   "execution_count": 80,
   "id": "a4a84d35-6b86-4061-9c2c-7304b5c8670a",
   "metadata": {},
   "outputs": [
    {
     "data": {
      "text/plain": [
       "'gy6or6_baseline_220312_0836.3'"
      ]
     },
     "execution_count": 80,
     "metadata": {},
     "output_type": "execute_result"
    }
   ],
   "source": [
    "newaudion = str(Path(filename).stem) \n",
    "newaudion"
   ]
  },
  {
   "cell_type": "code",
   "execution_count": 95,
   "id": "fde63a1f-035e-460e-86e3-ac1a641ec908",
   "metadata": {},
   "outputs": [
    {
     "data": {
      "text/html": [
       "<div>\n",
       "<style scoped>\n",
       "    .dataframe tbody tr th:only-of-type {\n",
       "        vertical-align: middle;\n",
       "    }\n",
       "\n",
       "    .dataframe tbody tr th {\n",
       "        vertical-align: top;\n",
       "    }\n",
       "\n",
       "    .dataframe thead th {\n",
       "        text-align: right;\n",
       "    }\n",
       "</style>\n",
       "<table border=\"1\" class=\"dataframe\">\n",
       "  <thead>\n",
       "    <tr style=\"text-align: right;\">\n",
       "      <th></th>\n",
       "      <th>onset_s</th>\n",
       "      <th>offset_s</th>\n",
       "      <th>label</th>\n",
       "    </tr>\n",
       "  </thead>\n",
       "  <tbody>\n",
       "    <tr>\n",
       "      <th>0</th>\n",
       "      <td>2.376812</td>\n",
       "      <td>0.447688</td>\n",
       "      <td>i</td>\n",
       "    </tr>\n",
       "    <tr>\n",
       "      <th>1</th>\n",
       "      <td>2.530594</td>\n",
       "      <td>0.619781</td>\n",
       "      <td>i</td>\n",
       "    </tr>\n",
       "    <tr>\n",
       "      <th>2</th>\n",
       "      <td>2.696687</td>\n",
       "      <td>0.835875</td>\n",
       "      <td>i</td>\n",
       "    </tr>\n",
       "    <tr>\n",
       "      <th>3</th>\n",
       "      <td>2.855500</td>\n",
       "      <td>0.947063</td>\n",
       "      <td>i</td>\n",
       "    </tr>\n",
       "    <tr>\n",
       "      <th>4</th>\n",
       "      <td>3.022594</td>\n",
       "      <td>1.130375</td>\n",
       "      <td>i</td>\n",
       "    </tr>\n",
       "  </tbody>\n",
       "</table>\n",
       "</div>"
      ],
      "text/plain": [
       "    onset_s  offset_s label\n",
       "0  2.376812  0.447688     i\n",
       "1  2.530594  0.619781     i\n",
       "2  2.696687  0.835875     i\n",
       "3  2.855500  0.947063     i\n",
       "4  3.022594  1.130375     i"
      ]
     },
     "execution_count": 95,
     "metadata": {},
     "output_type": "execute_result"
    }
   ],
   "source": [
    "csvfile.head()"
   ]
  },
  {
   "cell_type": "code",
   "execution_count": 96,
   "id": "fe7175cb-4914-4290-892c-892e37d035c2",
   "metadata": {},
   "outputs": [],
   "source": [
    "test=csvfile\n",
    "test.onset_s=test.onset_s +2"
   ]
  },
  {
   "cell_type": "code",
   "execution_count": 97,
   "id": "b4735a65-aa2a-47f0-a8e3-982ad2b81464",
   "metadata": {},
   "outputs": [
    {
     "data": {
      "text/html": [
       "<div>\n",
       "<style scoped>\n",
       "    .dataframe tbody tr th:only-of-type {\n",
       "        vertical-align: middle;\n",
       "    }\n",
       "\n",
       "    .dataframe tbody tr th {\n",
       "        vertical-align: top;\n",
       "    }\n",
       "\n",
       "    .dataframe thead th {\n",
       "        text-align: right;\n",
       "    }\n",
       "</style>\n",
       "<table border=\"1\" class=\"dataframe\">\n",
       "  <thead>\n",
       "    <tr style=\"text-align: right;\">\n",
       "      <th></th>\n",
       "      <th>onset_s</th>\n",
       "      <th>offset_s</th>\n",
       "      <th>label</th>\n",
       "    </tr>\n",
       "  </thead>\n",
       "  <tbody>\n",
       "    <tr>\n",
       "      <th>0</th>\n",
       "      <td>4.376812</td>\n",
       "      <td>0.447688</td>\n",
       "      <td>i</td>\n",
       "    </tr>\n",
       "    <tr>\n",
       "      <th>1</th>\n",
       "      <td>4.530594</td>\n",
       "      <td>0.619781</td>\n",
       "      <td>i</td>\n",
       "    </tr>\n",
       "    <tr>\n",
       "      <th>2</th>\n",
       "      <td>4.696687</td>\n",
       "      <td>0.835875</td>\n",
       "      <td>i</td>\n",
       "    </tr>\n",
       "    <tr>\n",
       "      <th>3</th>\n",
       "      <td>4.855500</td>\n",
       "      <td>0.947063</td>\n",
       "      <td>i</td>\n",
       "    </tr>\n",
       "    <tr>\n",
       "      <th>4</th>\n",
       "      <td>5.022594</td>\n",
       "      <td>1.130375</td>\n",
       "      <td>i</td>\n",
       "    </tr>\n",
       "  </tbody>\n",
       "</table>\n",
       "</div>"
      ],
      "text/plain": [
       "    onset_s  offset_s label\n",
       "0  4.376812  0.447688     i\n",
       "1  4.530594  0.619781     i\n",
       "2  4.696687  0.835875     i\n",
       "3  4.855500  0.947063     i\n",
       "4  5.022594  1.130375     i"
      ]
     },
     "execution_count": 97,
     "metadata": {},
     "output_type": "execute_result"
    }
   ],
   "source": [
    "test.head()"
   ]
  },
  {
   "cell_type": "code",
   "execution_count": null,
   "id": "160f75a3-adef-4bff-90dc-9ce7d291e634",
   "metadata": {},
   "outputs": [],
   "source": []
  }
 ],
 "metadata": {
  "kernelspec": {
   "display_name": "Python 3 (ipykernel)",
   "language": "python",
   "name": "python3"
  },
  "language_info": {
   "codemirror_mode": {
    "name": "ipython",
    "version": 3
   },
   "file_extension": ".py",
   "mimetype": "text/x-python",
   "name": "python",
   "nbconvert_exporter": "python",
   "pygments_lexer": "ipython3",
   "version": "3.12.8"
  }
 },
 "nbformat": 4,
 "nbformat_minor": 5
}
